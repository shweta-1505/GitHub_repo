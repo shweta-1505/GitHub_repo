{
 "cells": [
  {
   "cell_type": "markdown",
   "id": "415f6287-a581-437d-a082-bd9551448c74",
   "metadata": {},
   "source": [
    "Exercise 11 - Create a markdown cell to indicate the Author's name"
   ]
  },
  {
   "cell_type": "markdown",
   "id": "a88cc0f3-4213-4b00-8d0c-8d2bdfd88937",
   "metadata": {},
   "source": [
    "## Author"
   ]
  },
  {
   "cell_type": "markdown",
   "id": "4bfc35a7-7267-417c-8c7c-02deed442c75",
   "metadata": {},
   "source": [
    "Shweta Premchand Pitambare"
   ]
  },
  {
   "cell_type": "code",
   "execution_count": null,
   "id": "1eaa7f1d-ab4d-4752-8a9b-c2cc4f6a3fea",
   "metadata": {},
   "outputs": [],
   "source": []
  }
 ],
 "metadata": {
  "kernelspec": {
   "display_name": "Python 3 (ipykernel)",
   "language": "python",
   "name": "python3"
  },
  "language_info": {
   "codemirror_mode": {
    "name": "ipython",
    "version": 3
   },
   "file_extension": ".py",
   "mimetype": "text/x-python",
   "name": "python",
   "nbconvert_exporter": "python",
   "pygments_lexer": "ipython3",
   "version": "3.12.8"
  }
 },
 "nbformat": 4,
 "nbformat_minor": 5
}
